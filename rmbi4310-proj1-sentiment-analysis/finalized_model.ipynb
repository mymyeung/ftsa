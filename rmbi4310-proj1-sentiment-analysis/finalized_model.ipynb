{
 "cells": [
  {
   "cell_type": "markdown",
   "id": "8eabec6c",
   "metadata": {},
   "source": [
    "# COMP4332/RMBI4310 Project 1 - Sentiment Analysis \n",
    "### Group 26: Finalized TFIDF-BiLSTM-Numerical-MLP Model\n",
    "### 2021 Spring Term, HKUST"
   ]
  },
  {
   "cell_type": "markdown",
   "id": "6d96a70c",
   "metadata": {},
   "source": [
    "## Section 1: Data Processing"
   ]
  },
  {
   "cell_type": "code",
   "execution_count": 1,
   "id": "f41bd20a",
   "metadata": {},
   "outputs": [],
   "source": [
    "import os\n",
    "import pandas as pd\n",
    "from sklearn.pipeline import Pipeline\n",
    "from sklearn.feature_extraction.text import TfidfVectorizer\n",
    "from sklearn.metrics import confusion_matrix, classification_report, accuracy_score\n",
    "import torch\n",
    "from torch import nn\n",
    "from torch.utils.data import DataLoader, Dataset\n",
    "import tqdm\n",
    "import matplotlib.pyplot as plt\n",
    "from pandas.tseries.holiday import USFederalHolidayCalendar as calendar\n",
    "import seaborn as sns\n",
    "import numpy as np\n",
    "import nltk\n",
    "from nltk.stem import PorterStemmer\n",
    "from nltk.corpus import stopwords\n",
    "stopwords = set(stopwords.words('english'))\n",
    "ps = PorterStemmer()"
   ]
  },
  {
   "cell_type": "markdown",
   "id": "80403df1",
   "metadata": {},
   "source": [
    "Obtain the Data Frame with all useful columns ready (including newly derived columns)"
   ]
  },
  {
   "cell_type": "code",
   "execution_count": 2,
   "id": "01543a7a",
   "metadata": {},
   "outputs": [],
   "source": [
    "def load_data(split_name):\n",
    "    df = pd.read_csv(f'data_2021_spring/{split_name}.csv')\n",
    "    return df\n",
    "\n",
    "def get_new_df(mode):\n",
    "    df = load_data(mode)\n",
    "    df['day_of_week'] = pd.to_datetime(df['date']).dt.weekday\n",
    "    return df\n",
    "\n",
    "train_df = get_new_df('train')\n",
    "valid_df = get_new_df('valid')\n",
    "test_df = get_new_df('test')\n",
    "\n",
    "# Getting the text length of each dataframe\n",
    "train_df['text_len'] = train_df['text'].apply(lambda x: len(x))\n",
    "valid_df['text_len'] = valid_df['text'].apply(lambda x: len(x))\n",
    "test_df['text_len'] = test_df['text'].apply(lambda x: len(x))"
   ]
  },
  {
   "cell_type": "markdown",
   "id": "4d44f038",
   "metadata": {},
   "source": [
    "Correlations between the selected columns"
   ]
  },
  {
   "cell_type": "code",
   "execution_count": 3,
   "id": "fe0958a3",
   "metadata": {},
   "outputs": [
    {
     "data": {
      "text/html": [
       "<style  type=\"text/css\" >\n",
       "    #T_eafdc3c6_96d0_11eb_b4a3_0c9d92897fd5row0_col0 {\n",
       "            background-color:  #b40426;\n",
       "            color:  #f1f1f1;\n",
       "        }    #T_eafdc3c6_96d0_11eb_b4a3_0c9d92897fd5row0_col1 {\n",
       "            background-color:  #5572df;\n",
       "            color:  #000000;\n",
       "        }    #T_eafdc3c6_96d0_11eb_b4a3_0c9d92897fd5row0_col2 {\n",
       "            background-color:  #e8d6cc;\n",
       "            color:  #000000;\n",
       "        }    #T_eafdc3c6_96d0_11eb_b4a3_0c9d92897fd5row0_col3 {\n",
       "            background-color:  #3b4cc0;\n",
       "            color:  #f1f1f1;\n",
       "        }    #T_eafdc3c6_96d0_11eb_b4a3_0c9d92897fd5row0_col4 {\n",
       "            background-color:  #aac7fd;\n",
       "            color:  #000000;\n",
       "        }    #T_eafdc3c6_96d0_11eb_b4a3_0c9d92897fd5row1_col0 {\n",
       "            background-color:  #3b4cc0;\n",
       "            color:  #f1f1f1;\n",
       "        }    #T_eafdc3c6_96d0_11eb_b4a3_0c9d92897fd5row1_col1 {\n",
       "            background-color:  #b40426;\n",
       "            color:  #f1f1f1;\n",
       "        }    #T_eafdc3c6_96d0_11eb_b4a3_0c9d92897fd5row1_col2 {\n",
       "            background-color:  #3b4cc0;\n",
       "            color:  #f1f1f1;\n",
       "        }    #T_eafdc3c6_96d0_11eb_b4a3_0c9d92897fd5row1_col3 {\n",
       "            background-color:  #4257c9;\n",
       "            color:  #f1f1f1;\n",
       "        }    #T_eafdc3c6_96d0_11eb_b4a3_0c9d92897fd5row1_col4 {\n",
       "            background-color:  #3b4cc0;\n",
       "            color:  #f1f1f1;\n",
       "        }    #T_eafdc3c6_96d0_11eb_b4a3_0c9d92897fd5row2_col0 {\n",
       "            background-color:  #e6d7cf;\n",
       "            color:  #000000;\n",
       "        }    #T_eafdc3c6_96d0_11eb_b4a3_0c9d92897fd5row2_col1 {\n",
       "            background-color:  #4f69d9;\n",
       "            color:  #000000;\n",
       "        }    #T_eafdc3c6_96d0_11eb_b4a3_0c9d92897fd5row2_col2 {\n",
       "            background-color:  #b40426;\n",
       "            color:  #f1f1f1;\n",
       "        }    #T_eafdc3c6_96d0_11eb_b4a3_0c9d92897fd5row2_col3 {\n",
       "            background-color:  #3b4cc0;\n",
       "            color:  #f1f1f1;\n",
       "        }    #T_eafdc3c6_96d0_11eb_b4a3_0c9d92897fd5row2_col4 {\n",
       "            background-color:  #afcafc;\n",
       "            color:  #000000;\n",
       "        }    #T_eafdc3c6_96d0_11eb_b4a3_0c9d92897fd5row3_col0 {\n",
       "            background-color:  #4055c8;\n",
       "            color:  #f1f1f1;\n",
       "        }    #T_eafdc3c6_96d0_11eb_b4a3_0c9d92897fd5row3_col1 {\n",
       "            background-color:  #6384eb;\n",
       "            color:  #000000;\n",
       "        }    #T_eafdc3c6_96d0_11eb_b4a3_0c9d92897fd5row3_col2 {\n",
       "            background-color:  #485fd1;\n",
       "            color:  #f1f1f1;\n",
       "        }    #T_eafdc3c6_96d0_11eb_b4a3_0c9d92897fd5row3_col3 {\n",
       "            background-color:  #b40426;\n",
       "            color:  #f1f1f1;\n",
       "        }    #T_eafdc3c6_96d0_11eb_b4a3_0c9d92897fd5row3_col4 {\n",
       "            background-color:  #5f7fe8;\n",
       "            color:  #000000;\n",
       "        }    #T_eafdc3c6_96d0_11eb_b4a3_0c9d92897fd5row4_col0 {\n",
       "            background-color:  #93b5fe;\n",
       "            color:  #000000;\n",
       "        }    #T_eafdc3c6_96d0_11eb_b4a3_0c9d92897fd5row4_col1 {\n",
       "            background-color:  #3b4cc0;\n",
       "            color:  #f1f1f1;\n",
       "        }    #T_eafdc3c6_96d0_11eb_b4a3_0c9d92897fd5row4_col2 {\n",
       "            background-color:  #9fbfff;\n",
       "            color:  #000000;\n",
       "        }    #T_eafdc3c6_96d0_11eb_b4a3_0c9d92897fd5row4_col3 {\n",
       "            background-color:  #3d50c3;\n",
       "            color:  #f1f1f1;\n",
       "        }    #T_eafdc3c6_96d0_11eb_b4a3_0c9d92897fd5row4_col4 {\n",
       "            background-color:  #b40426;\n",
       "            color:  #f1f1f1;\n",
       "        }</style><table id=\"T_eafdc3c6_96d0_11eb_b4a3_0c9d92897fd5\" ><thead>    <tr>        <th class=\"blank level0\" ></th>        <th class=\"col_heading level0 col0\" >funny</th>        <th class=\"col_heading level0 col1\" >stars</th>        <th class=\"col_heading level0 col2\" >useful</th>        <th class=\"col_heading level0 col3\" >day_of_week</th>        <th class=\"col_heading level0 col4\" >text_len</th>    </tr></thead><tbody>\n",
       "                <tr>\n",
       "                        <th id=\"T_eafdc3c6_96d0_11eb_b4a3_0c9d92897fd5level0_row0\" class=\"row_heading level0 row0\" >funny</th>\n",
       "                        <td id=\"T_eafdc3c6_96d0_11eb_b4a3_0c9d92897fd5row0_col0\" class=\"data row0 col0\" >1.000000</td>\n",
       "                        <td id=\"T_eafdc3c6_96d0_11eb_b4a3_0c9d92897fd5row0_col1\" class=\"data row0 col1\" >-0.061346</td>\n",
       "                        <td id=\"T_eafdc3c6_96d0_11eb_b4a3_0c9d92897fd5row0_col2\" class=\"data row0 col2\" >0.507746</td>\n",
       "                        <td id=\"T_eafdc3c6_96d0_11eb_b4a3_0c9d92897fd5row0_col3\" class=\"data row0 col3\" >-0.037347</td>\n",
       "                        <td id=\"T_eafdc3c6_96d0_11eb_b4a3_0c9d92897fd5row0_col4\" class=\"data row0 col4\" >0.223274</td>\n",
       "            </tr>\n",
       "            <tr>\n",
       "                        <th id=\"T_eafdc3c6_96d0_11eb_b4a3_0c9d92897fd5level0_row1\" class=\"row_heading level0 row1\" >stars</th>\n",
       "                        <td id=\"T_eafdc3c6_96d0_11eb_b4a3_0c9d92897fd5row1_col0\" class=\"data row1 col0\" >-0.061346</td>\n",
       "                        <td id=\"T_eafdc3c6_96d0_11eb_b4a3_0c9d92897fd5row1_col1\" class=\"data row1 col1\" >1.000000</td>\n",
       "                        <td id=\"T_eafdc3c6_96d0_11eb_b4a3_0c9d92897fd5row1_col2\" class=\"data row1 col2\" >-0.085296</td>\n",
       "                        <td id=\"T_eafdc3c6_96d0_11eb_b4a3_0c9d92897fd5row1_col3\" class=\"data row1 col3\" >-0.009572</td>\n",
       "                        <td id=\"T_eafdc3c6_96d0_11eb_b4a3_0c9d92897fd5row1_col4\" class=\"data row1 col4\" >-0.163387</td>\n",
       "            </tr>\n",
       "            <tr>\n",
       "                        <th id=\"T_eafdc3c6_96d0_11eb_b4a3_0c9d92897fd5level0_row2\" class=\"row_heading level0 row2\" >useful</th>\n",
       "                        <td id=\"T_eafdc3c6_96d0_11eb_b4a3_0c9d92897fd5row2_col0\" class=\"data row2 col0\" >0.507746</td>\n",
       "                        <td id=\"T_eafdc3c6_96d0_11eb_b4a3_0c9d92897fd5row2_col1\" class=\"data row2 col1\" >-0.085296</td>\n",
       "                        <td id=\"T_eafdc3c6_96d0_11eb_b4a3_0c9d92897fd5row2_col2\" class=\"data row2 col2\" >1.000000</td>\n",
       "                        <td id=\"T_eafdc3c6_96d0_11eb_b4a3_0c9d92897fd5row2_col3\" class=\"data row2 col3\" >-0.037780</td>\n",
       "                        <td id=\"T_eafdc3c6_96d0_11eb_b4a3_0c9d92897fd5row2_col4\" class=\"data row2 col4\" >0.245371</td>\n",
       "            </tr>\n",
       "            <tr>\n",
       "                        <th id=\"T_eafdc3c6_96d0_11eb_b4a3_0c9d92897fd5level0_row3\" class=\"row_heading level0 row3\" >day_of_week</th>\n",
       "                        <td id=\"T_eafdc3c6_96d0_11eb_b4a3_0c9d92897fd5row3_col0\" class=\"data row3 col0\" >-0.037347</td>\n",
       "                        <td id=\"T_eafdc3c6_96d0_11eb_b4a3_0c9d92897fd5row3_col1\" class=\"data row3 col1\" >-0.009572</td>\n",
       "                        <td id=\"T_eafdc3c6_96d0_11eb_b4a3_0c9d92897fd5row3_col2\" class=\"data row3 col2\" >-0.037780</td>\n",
       "                        <td id=\"T_eafdc3c6_96d0_11eb_b4a3_0c9d92897fd5row3_col3\" class=\"data row3 col3\" >1.000000</td>\n",
       "                        <td id=\"T_eafdc3c6_96d0_11eb_b4a3_0c9d92897fd5row3_col4\" class=\"data row3 col4\" >-0.027041</td>\n",
       "            </tr>\n",
       "            <tr>\n",
       "                        <th id=\"T_eafdc3c6_96d0_11eb_b4a3_0c9d92897fd5level0_row4\" class=\"row_heading level0 row4\" >text_len</th>\n",
       "                        <td id=\"T_eafdc3c6_96d0_11eb_b4a3_0c9d92897fd5row4_col0\" class=\"data row4 col0\" >0.223274</td>\n",
       "                        <td id=\"T_eafdc3c6_96d0_11eb_b4a3_0c9d92897fd5row4_col1\" class=\"data row4 col1\" >-0.163387</td>\n",
       "                        <td id=\"T_eafdc3c6_96d0_11eb_b4a3_0c9d92897fd5row4_col2\" class=\"data row4 col2\" >0.245371</td>\n",
       "                        <td id=\"T_eafdc3c6_96d0_11eb_b4a3_0c9d92897fd5row4_col3\" class=\"data row4 col3\" >-0.027041</td>\n",
       "                        <td id=\"T_eafdc3c6_96d0_11eb_b4a3_0c9d92897fd5row4_col4\" class=\"data row4 col4\" >1.000000</td>\n",
       "            </tr>\n",
       "    </tbody></table>"
      ],
      "text/plain": [
       "<pandas.io.formats.style.Styler at 0x1d88cad6f08>"
      ]
     },
     "execution_count": 3,
     "metadata": {},
     "output_type": "execute_result"
    }
   ],
   "source": [
    "corr_df = train_df.drop(columns=['cool'])\n",
    "corr_df.corr().style.background_gradient(cmap='coolwarm')"
   ]
  },
  {
   "cell_type": "markdown",
   "id": "969d40be",
   "metadata": {},
   "source": [
    "Build the TF-IDF model"
   ]
  },
  {
   "cell_type": "code",
   "execution_count": 4,
   "id": "4dddde5a",
   "metadata": {},
   "outputs": [],
   "source": [
    "def lower(s):\n",
    "    if isinstance(s, list):\n",
    "        return [lower(t) for t in s]\n",
    "    if isinstance(s, str):\n",
    "        return s.lower()\n",
    "    else:\n",
    "        raise NotImplementedError(\"unknown datatype\")\n",
    "\n",
    "def tfidf_tokenizer(text):\n",
    "    tokens = nltk.word_tokenize(text) # tokenize\n",
    "    tokens = [token for token in tokens if token not in stopwords and not token.isnumeric()] # filter stopword\n",
    "    stemmed = [ps.stem(token) for token in tokens] # stem\n",
    "    stems = list(map(lambda x: lower(x), stemmed)) # lower\n",
    "    return stems\n",
    "\n",
    "tfidf = TfidfVectorizer(\n",
    "            tokenizer = tfidf_tokenizer, \n",
    "            ngram_range=(1,4), \n",
    "            max_features= 150000, \n",
    "            min_df= 3,\n",
    "            max_df= 0.9,\n",
    "        )"
   ]
  },
  {
   "cell_type": "code",
   "execution_count": 5,
   "id": "b8ada55b",
   "metadata": {},
   "outputs": [
    {
     "name": "stdout",
     "output_type": "stream",
     "text": [
      "(10000, 67194)\n"
     ]
    }
   ],
   "source": [
    "### Building the tfidf vector using training set\n",
    "train_tfidf = tfidf.fit_transform(train_df['text'])\n",
    "\n",
    "### Transform the valid set and test set using the tfidf built by training set\n",
    "valid_tfidf = tfidf.transform(valid_df['text'])\n",
    "test_tfidf = tfidf.transform(test_df['text'])\n",
    "\n",
    "print(train_tfidf.shape)"
   ]
  },
  {
   "cell_type": "code",
   "execution_count": 6,
   "id": "a92acdbe",
   "metadata": {},
   "outputs": [
    {
     "name": "stdout",
     "output_type": "stream",
     "text": [
      "(10000, 67194)\n"
     ]
    }
   ],
   "source": [
    "train_tfidf_array = train_tfidf.toarray()\n",
    "valid_tfidf_array = valid_tfidf.toarray()\n",
    "test_tfidf_array = test_tfidf.toarray()\n",
    "\n",
    "print(train_tfidf_array.shape)"
   ]
  },
  {
   "cell_type": "markdown",
   "id": "a939f2da",
   "metadata": {},
   "source": [
    "Normalizing numerical feature columns all data splits"
   ]
  },
  {
   "cell_type": "code",
   "execution_count": 7,
   "id": "69fd536a",
   "metadata": {},
   "outputs": [],
   "source": [
    "train_df_copy = train_df.copy()\n",
    "valid_df_copy = valid_df.copy()\n",
    "test_df_copy = test_df.copy()\n",
    "\n",
    "for column in ['funny', 'useful', 'cool', 'text_len', 'day_of_week']:\n",
    "    train_df_copy[column] = train_df_copy[column] /train_df_copy[column].abs().max()\n",
    "    valid_df_copy[column] = valid_df_copy[column] /valid_df_copy[column].abs().max()\n",
    "    test_df_copy[column] = test_df_copy[column] /test_df_copy[column].abs().max()\n",
    "\n",
    "train_df = train_df_copy\n",
    "valid_df = valid_df_copy\n",
    "test_df = test_df_copy"
   ]
  },
  {
   "cell_type": "markdown",
   "id": "12d96ddf",
   "metadata": {},
   "source": [
    "Stack up the numeric features for all data splits"
   ]
  },
  {
   "cell_type": "code",
   "execution_count": 8,
   "id": "64210f0c",
   "metadata": {},
   "outputs": [],
   "source": [
    "f = train_df['funny'].values.reshape(-1, 1)\n",
    "u = train_df['useful'].values.reshape(-1, 1)\n",
    "l = train_df['text_len'].values.reshape(-1, 1)\n",
    "d = train_df['day_of_week'].values.reshape(-1, 1)\n",
    "train_numeric = np.hstack((f,u,l,d))\n",
    "\n",
    "f = valid_df['funny'].values.reshape(-1, 1)\n",
    "u = valid_df['useful'].values.reshape(-1, 1)\n",
    "l = valid_df['text_len'].values.reshape(-1, 1)\n",
    "d = valid_df['day_of_week'].values.reshape(-1, 1)\n",
    "valid_numeric = np.hstack((f,u,l,d))\n",
    "\n",
    "f = test_df['funny'].values.reshape(-1, 1)\n",
    "u = test_df['useful'].values.reshape(-1, 1)\n",
    "l = test_df['text_len'].values.reshape(-1, 1)\n",
    "d = test_df['day_of_week'].values.reshape(-1, 1)\n",
    "test_numeric = np.hstack((f,u,l,d))"
   ]
  },
  {
   "cell_type": "markdown",
   "id": "95fbb26d",
   "metadata": {},
   "source": [
    "## Section 2: Modelling and Training"
   ]
  },
  {
   "cell_type": "code",
   "execution_count": 9,
   "id": "242247b7",
   "metadata": {},
   "outputs": [],
   "source": [
    "import tensorflow as tf\n",
    "from tensorflow import keras\n",
    "from tensorflow.keras import layers\n",
    "from keras.models import Sequential, Model\n",
    "from keras.layers import Dense, Activation, Dropout, BatchNormalization, Activation, Input, Add, Concatenate, LayerNormalization\n",
    "from tensorflow.keras import regularizers\n",
    "from tensorflow.keras import metrics\n",
    "from keras.utils import to_categorical\n",
    "from keras.regularizers import l2"
   ]
  },
  {
   "cell_type": "code",
   "execution_count": 10,
   "id": "55983589",
   "metadata": {},
   "outputs": [],
   "source": [
    "# Getting the labels\n",
    "y_train = train_df['stars'].values -1\n",
    "y_valid = valid_df['stars'].values -1"
   ]
  },
  {
   "cell_type": "code",
   "execution_count": 11,
   "id": "c2bfa74b",
   "metadata": {},
   "outputs": [],
   "source": [
    "# Changing the labels to one hot vectors\n",
    "y_train = to_categorical(y_train)\n",
    "y_valid = to_categorical(y_valid)"
   ]
  },
  {
   "cell_type": "markdown",
   "id": "d7d3511e",
   "metadata": {},
   "source": [
    "Modelling: Bidirection LSTM of TF-IDF, concatenate, and MLP"
   ]
  },
  {
   "cell_type": "code",
   "execution_count": 12,
   "id": "84231d78",
   "metadata": {},
   "outputs": [],
   "source": [
    "class MyModel(tf.keras.Model):\n",
    "\n",
    "    def __init__(self):\n",
    "        super(MyModel, self).__init__()\n",
    "        self.BiLSTM = layers.Bidirectional(\n",
    "            layers.LSTM(10, return_sequences=False, dropout=0.5, \n",
    "                        recurrent_dropout=0.5, kernel_regularizer=l2(0.005), unit_forget_bias= True,\n",
    "                       ), \n",
    "            merge_mode=\"ave\"\n",
    "        )\n",
    "        self.dense1 = layers.Dense(64, activation='relu', kernel_regularizer=l2(0.005), bias_regularizer=l2(0.005))\n",
    "        self.dense2 = layers.Dense(64, activation='relu', kernel_regularizer=l2(0.005), bias_regularizer=l2(0.005))\n",
    "        self.dense3 = Dense(5, activation='softmax')\n",
    "        self.nlp_dropout = Dropout(0.3)\n",
    "        self.dropout = Dropout(0.5)\n",
    "        self.LN = LayerNormalization()\n",
    "        self.activation = Activation('relu')\n",
    "        \n",
    "    def call(self, inputs):\n",
    "        nlp_input = inputs[0]\n",
    "        numeric_input = inputs[1]\n",
    "        nlp_input = tf.reshape(tensor= nlp_input, shape=(tf.shape(nlp_input)[0], 1, tf.shape(nlp_input)[-1]))\n",
    "        nlp_input = self.BiLSTM(nlp_input)\n",
    "        nlp_input = self.LN(nlp_input)\n",
    "        nlp_input = self.nlp_dropout(nlp_input)\n",
    "        x = layers.Concatenate()([nlp_input, numeric_input])\n",
    "        x = self.dense1(x)\n",
    "        x = self.dropout(x)\n",
    "        x = self.activation(x)\n",
    "        x = self.dense2(x)\n",
    "        x = self.dropout(x)\n",
    "        x = self.activation(x)\n",
    "        x = self.dense3(x)\n",
    "        return x"
   ]
  },
  {
   "cell_type": "markdown",
   "id": "be1d920c",
   "metadata": {},
   "source": [
    "Training the model"
   ]
  },
  {
   "cell_type": "code",
   "execution_count": 13,
   "id": "8f37c1ca",
   "metadata": {},
   "outputs": [
    {
     "name": "stdout",
     "output_type": "stream",
     "text": [
      "WARNING:tensorflow:Layer lstm will not use cuDNN kernel since it doesn't meet the cuDNN kernel criteria. It will use generic GPU kernel as fallback when running on GPU\n",
      "WARNING:tensorflow:Layer lstm will not use cuDNN kernel since it doesn't meet the cuDNN kernel criteria. It will use generic GPU kernel as fallback when running on GPU\n",
      "WARNING:tensorflow:Layer lstm will not use cuDNN kernel since it doesn't meet the cuDNN kernel criteria. It will use generic GPU kernel as fallback when running on GPU\n",
      "Epoch 1/100\n",
      "90/90 [==============================] - 8s 41ms/step - loss: 2.2338 - accuracy: 0.1955 - val_loss: 1.9453 - val_accuracy: 0.2240\n",
      "Epoch 2/100\n",
      "90/90 [==============================] - 3s 32ms/step - loss: 1.9210 - accuracy: 0.2479 - val_loss: 1.8560 - val_accuracy: 0.2480\n",
      "Epoch 3/100\n",
      "90/90 [==============================] - 3s 31ms/step - loss: 1.8388 - accuracy: 0.2552 - val_loss: 1.7925 - val_accuracy: 0.2480\n",
      "Epoch 4/100\n",
      "90/90 [==============================] - 3s 33ms/step - loss: 1.7809 - accuracy: 0.2585 - val_loss: 1.7414 - val_accuracy: 0.2480\n",
      "Epoch 5/100\n",
      "90/90 [==============================] - 3s 31ms/step - loss: 1.7309 - accuracy: 0.2874 - val_loss: 1.6931 - val_accuracy: 0.3230\n",
      "Epoch 6/100\n",
      "90/90 [==============================] - 3s 31ms/step - loss: 1.6812 - accuracy: 0.3399 - val_loss: 1.6334 - val_accuracy: 0.4170\n",
      "Epoch 7/100\n",
      "90/90 [==============================] - 3s 31ms/step - loss: 1.6149 - accuracy: 0.4043 - val_loss: 1.5457 - val_accuracy: 0.4390\n",
      "Epoch 8/100\n",
      "90/90 [==============================] - 3s 31ms/step - loss: 1.5266 - accuracy: 0.4383 - val_loss: 1.4428 - val_accuracy: 0.4740\n",
      "Epoch 9/100\n",
      "90/90 [==============================] - 3s 32ms/step - loss: 1.4209 - accuracy: 0.4804 - val_loss: 1.3567 - val_accuracy: 0.5080\n",
      "Epoch 10/100\n",
      "90/90 [==============================] - 3s 32ms/step - loss: 1.3395 - accuracy: 0.5131 - val_loss: 1.2899 - val_accuracy: 0.5340\n",
      "Epoch 11/100\n",
      "90/90 [==============================] - 3s 31ms/step - loss: 1.2713 - accuracy: 0.5312 - val_loss: 1.2334 - val_accuracy: 0.5650\n",
      "Epoch 12/100\n",
      "90/90 [==============================] - 3s 31ms/step - loss: 1.2115 - accuracy: 0.5594 - val_loss: 1.1900 - val_accuracy: 0.5730\n",
      "Epoch 13/100\n",
      "90/90 [==============================] - 3s 32ms/step - loss: 1.1685 - accuracy: 0.5772 - val_loss: 1.1610 - val_accuracy: 0.5840\n",
      "Epoch 14/100\n",
      "90/90 [==============================] - 3s 31ms/step - loss: 1.1092 - accuracy: 0.6017 - val_loss: 1.1404 - val_accuracy: 0.5930\n",
      "Epoch 15/100\n",
      "90/90 [==============================] - 3s 32ms/step - loss: 1.0582 - accuracy: 0.6348 - val_loss: 1.1251 - val_accuracy: 0.5970\n",
      "Epoch 16/100\n",
      "90/90 [==============================] - 3s 31ms/step - loss: 1.0044 - accuracy: 0.6549 - val_loss: 1.1187 - val_accuracy: 0.5990\n",
      "Epoch 17/100\n",
      "90/90 [==============================] - 3s 31ms/step - loss: 0.9713 - accuracy: 0.6715 - val_loss: 1.1126 - val_accuracy: 0.6030\n",
      "Epoch 18/100\n",
      "90/90 [==============================] - 3s 31ms/step - loss: 0.9555 - accuracy: 0.6812 - val_loss: 1.1167 - val_accuracy: 0.6080\n",
      "Epoch 19/100\n",
      "90/90 [==============================] - 3s 32ms/step - loss: 0.8987 - accuracy: 0.7153 - val_loss: 1.1181 - val_accuracy: 0.6030\n",
      "Epoch 20/100\n",
      "90/90 [==============================] - 3s 31ms/step - loss: 0.8873 - accuracy: 0.7195 - val_loss: 1.1270 - val_accuracy: 0.6070\n",
      "Epoch 21/100\n",
      "90/90 [==============================] - 3s 32ms/step - loss: 0.8349 - accuracy: 0.7478 - val_loss: 1.1318 - val_accuracy: 0.6010\n",
      "Epoch 22/100\n",
      "90/90 [==============================] - 3s 31ms/step - loss: 0.8216 - accuracy: 0.7524 - val_loss: 1.1373 - val_accuracy: 0.5970\n",
      "100/100 [==============================] - 1s 12ms/step - loss: 0.7730 - accuracy: 0.8170\n",
      "20/20 [==============================] - 0s 12ms/step - loss: 1.0717 - accuracy: 0.6300\n",
      "training loss: 0.7730419635772705 training accuracy 0.8169999718666077\n",
      "test loss: 1.0717048645019531 test accuracy 0.6299999952316284\n"
     ]
    }
   ],
   "source": [
    "os.makedirs(\"models\", exist_ok=True)\n",
    "\n",
    "model = MyModel()\n",
    "\n",
    "model.compile(\n",
    "    optimizer = tf.keras.optimizers.Adamax(learning_rate=5e-4),\n",
    "    loss = 'categorical_crossentropy',\n",
    "    metrics = ['accuracy']\n",
    ")\n",
    "\n",
    "checkpointer = keras.callbacks.ModelCheckpoint(\n",
    "    filepath=os.path.join(\"models\",\"weights.h5\"),\n",
    "    monitor=\"val_accuracy\",\n",
    "    verbose=0,\n",
    "    save_best_only=True)\n",
    "\n",
    "earlystopping = keras.callbacks.EarlyStopping(\n",
    "    monitor='val_loss',\n",
    "    patience=5,\n",
    "    verbose=0)\n",
    "\n",
    "def scheduler(epoch, lr):\n",
    "    if(epoch % 20 == 0 and epoch != 0):\n",
    "        return lr * 0.5\n",
    "    return lr\n",
    "\n",
    "scheduler = keras.callbacks.LearningRateScheduler(\n",
    "    scheduler,\n",
    "    verbose=0\n",
    ")\n",
    "\n",
    "np.random.seed(0)\n",
    "tf.random.set_seed(0)\n",
    "\n",
    "history = model.fit([train_tfidf_array, train_numeric], y_train,\n",
    "                    validation_split=0.1,\n",
    "                    epochs=100, batch_size=100, verbose=1,\n",
    "                    callbacks=[checkpointer, earlystopping, scheduler])\n",
    "\n",
    "\n",
    "model.load_weights(os.path.join(\"models\", \"weights.h5\"))\n",
    "\n",
    "train_score = model.evaluate([train_tfidf_array, train_numeric], y_train,\n",
    "                             batch_size=100)\n",
    "\n",
    "test_score = model.evaluate([valid_tfidf_array, valid_numeric], y_valid,\n",
    "                            batch_size=100)\n",
    "\n",
    "print(\"training loss:\", train_score[0], \"training accuracy\", train_score[1])\n",
    "print(\"test loss:\", test_score[0], \"test accuracy\", test_score[1])"
   ]
  },
  {
   "cell_type": "markdown",
   "id": "938da4db",
   "metadata": {},
   "source": [
    "## Section 3: Evaluation, Output and Predictions"
   ]
  },
  {
   "cell_type": "markdown",
   "id": "9af9d759",
   "metadata": {},
   "source": [
    "Plotting the loss and accuracy"
   ]
  },
  {
   "cell_type": "code",
   "execution_count": 14,
   "id": "33724345",
   "metadata": {},
   "outputs": [
    {
     "data": {
      "image/png": "[encoded data removed]",
      "text/plain": [
       "<Figure size 720x288 with 2 Axes>"
      ]
     },
     "metadata": {
      "needs_background": "light"
     },
     "output_type": "display_data"
    }
   ],
   "source": [
    "plt.figure(figsize=(10,4))\n",
    "plt.subplot(1,2,1)\n",
    "plt.plot(history.history[\"loss\"], label=\"LSTM-training\", color=\"orange\", linestyle=\"dashed\")\n",
    "plt.plot(history.history[\"val_loss\"], label=\"LSTM-validation\", color=\"orange\")\n",
    "plt.xlabel(\"Iteration\")\n",
    "plt.ylabel(\"Loss\")\n",
    "plt.legend()\n",
    "plt.subplot(1,2,2)\n",
    "plt.plot(history.history[\"accuracy\"], label=\"LSTM-training\", color=\"orange\", linestyle=\"dashed\")\n",
    "plt.plot(history.history[\"val_accuracy\"], label=\"LSTM-validation\", color=\"orange\")\n",
    "plt.xlabel(\"Iteration\")\n",
    "plt.ylabel(\"Accuracy\")\n",
    "plt.legend()\n",
    "plt.show()"
   ]
  },
  {
   "cell_type": "markdown",
   "id": "7f9e344b",
   "metadata": {},
   "source": [
    "Classification Report and Confusion Matrix (with heatmap)"
   ]
  },
  {
   "cell_type": "code",
   "execution_count": 15,
   "id": "6935d0d5",
   "metadata": {
    "scrolled": true
   },
   "outputs": [
    {
     "name": "stdout",
     "output_type": "stream",
     "text": [
      "              precision    recall  f1-score   support\n",
      "\n",
      "           0       0.75      0.88      0.81       517\n",
      "           1       0.51      0.24      0.33       278\n",
      "           2       0.49      0.53      0.51       344\n",
      "           3       0.54      0.53      0.53       427\n",
      "           4       0.71      0.76      0.73       434\n",
      "\n",
      "    accuracy                           0.63      2000\n",
      "   macro avg       0.60      0.59      0.58      2000\n",
      "weighted avg       0.62      0.63      0.62      2000\n",
      "\n",
      "[[453  28  22  11   3]\n",
      " [ 99  68  88  19   4]\n",
      " [ 32  33 183  80  16]\n",
      " [  9   4  74 225 115]\n",
      " [ 11   0   8  84 331]]\n"
     ]
    }
   ],
   "source": [
    "logits = model.predict([valid_tfidf_array, valid_numeric], batch_size=100)\n",
    "# print(logits)\n",
    "y_pred = np.argmax(logits, axis= -1)\n",
    "y_true = valid_df['stars'] - 1\n",
    "print(classification_report(y_true, y_pred))\n",
    "conf = confusion_matrix(y_true, y_pred)\n",
    "print(conf)"
   ]
  },
  {
   "cell_type": "code",
   "execution_count": 16,
   "id": "d7bb5fae",
   "metadata": {},
   "outputs": [
    {
     "data": {
      "text/plain": [
       "<matplotlib.axes._subplots.AxesSubplot at 0x1daf2be93c8>"
      ]
     },
     "execution_count": 16,
     "metadata": {},
     "output_type": "execute_result"
    },
    {
     "data": {
      "image/png": "[encoded data removed]",
      "text/plain": [
       "<Figure size 432x288 with 2 Axes>"
      ]
     },
     "metadata": {
      "needs_background": "light"
     },
     "output_type": "display_data"
    }
   ],
   "source": [
    "sns.heatmap(conf, annot=True, cmap=\"YlGnBu\")"
   ]
  },
  {
   "cell_type": "markdown",
   "id": "2e46d307",
   "metadata": {},
   "source": [
    "### Use validation set to evaluate"
   ]
  },
  {
   "cell_type": "code",
   "execution_count": 22,
   "id": "5b501292",
   "metadata": {},
   "outputs": [],
   "source": [
    "# Getting the prediction\n",
    "logits = model.predict([valid_tfidf_array, valid_numeric], batch_size=100)\n",
    "y_pred = np.argmax(logits, axis= -1) + 1\n",
    "\n",
    "# Produce and export the ans and pred csv files \n",
    "val_ans = pd.DataFrame({'stars': valid_df['stars'], 'review_id': valid_df['review_id']})\n",
    "val_pred = pd.DataFrame({'stars': y_pred, 'review_id': valid_df['review_id']})\n",
    "\n",
    "output_dir = './data'\n",
    "if not os.path.exists(output_dir):\n",
    "    os.mkdir(output_dir)\n",
    "\n",
    "val_ans.to_csv('./data/ans.csv', index= False)\n",
    "val_pred.to_csv('./data/pred.csv', index=False)"
   ]
  },
  {
   "cell_type": "code",
   "execution_count": 23,
   "id": "32adde80",
   "metadata": {},
   "outputs": [
    {
     "name": "stdout",
     "output_type": "stream",
     "text": [
      "2000 2000 0\n",
      "accuracy: 0.63 \tprecision: 0.5984055930443428 \trecall: 0.5884789707174687 \tf1: 0.5826348556374064\n"
     ]
    }
   ],
   "source": [
    "%run evaluate.py"
   ]
  },
  {
   "cell_type": "markdown",
   "id": "726e2128",
   "metadata": {},
   "source": [
    "### Export test set prediction"
   ]
  },
  {
   "cell_type": "code",
   "execution_count": 25,
   "id": "1c5a7cbf",
   "metadata": {},
   "outputs": [],
   "source": [
    "# Getting the prediction\n",
    "logits = model.predict([test_tfidf_array, test_numeric], batch_size=100)\n",
    "y_pred = np.argmax(logits, axis= -1) + 1\n",
    "\n",
    "# Produce and export the ans and pred csv files \n",
    "test_pred = pd.DataFrame({'stars': y_pred, 'review_id': valid_df['review_id']})\n",
    "test_pred.to_csv('pre.csv', index=False)"
   ]
  },
  {
   "cell_type": "code",
   "execution_count": null,
   "id": "669388f8",
   "metadata": {},
   "outputs": [],
   "source": [
    "%run evaluate.py"
   ]
  },
  {
   "cell_type": "markdown",
   "id": "392807a4",
   "metadata": {},
   "source": [
    "## End of Model"
   ]
  },
  {
   "cell_type": "code",
   "execution_count": null,
   "id": "292b2df7",
   "metadata": {},
   "outputs": [],
   "source": []
  }
 ],
 "metadata": {
  "kernelspec": {
   "display_name": "Python 3",
   "language": "python",
   "name": "python3"
  },
  "language_info": {
   "codemirror_mode": {
    "name": "ipython",
    "version": 3
   },
   "file_extension": ".py",
   "mimetype": "text/x-python",
   "name": "python",
   "nbconvert_exporter": "python",
   "pygments_lexer": "ipython3",
   "version": "3.7.9"
  }
 },
 "nbformat": 4,
 "nbformat_minor": 5
}
